{
 "cells": [
  {
   "cell_type": "code",
   "execution_count": 1,
   "metadata": {
    "colab": {},
    "colab_type": "code",
    "id": "1bmDChnmkN3L"
   },
   "outputs": [
    {
     "name": "stdout",
     "output_type": "stream",
     "text": [
      "Unnamed: 0                   0\n",
      "match_event_id            1563\n",
      "location_x                1461\n",
      "location_y                1540\n",
      "remaining_min             1562\n",
      "power_of_shot             1486\n",
      "knockout_match            1517\n",
      "game_season               5862\n",
      "remaining_sec             1594\n",
      "distance_of_shot          1567\n",
      "is_goal                   6268\n",
      "area_of_shot              1502\n",
      "shot_basics               1575\n",
      "range_of_shot             1564\n",
      "team_name                 1535\n",
      "date_of_game              1550\n",
      "home/away                 1497\n",
      "shot_id_number            1563\n",
      "lat/lng                   1565\n",
      "type_of_shot             15280\n",
      "type_of_combined_shot    15417\n",
      "match_id                     0\n",
      "team_id                      0\n",
      "remaining_min.1           1535\n",
      "power_of_shot.1           1539\n",
      "knockout_match.1          1493\n",
      "remaining_sec.1           1539\n",
      "distance_of_shot.1        1568\n",
      "dtype: int64\n"
     ]
    },
    {
     "data": {
      "text/plain": [
       "Unnamed: 0               30697\n",
       "match_event_id             618\n",
       "location_x                 488\n",
       "location_y                 450\n",
       "remaining_min               12\n",
       "power_of_shot                7\n",
       "knockout_match               2\n",
       "game_season                 20\n",
       "remaining_sec               60\n",
       "distance_of_shot            73\n",
       "is_goal                      2\n",
       "area_of_shot                 6\n",
       "shot_basics                  7\n",
       "range_of_shot                5\n",
       "team_name                    1\n",
       "date_of_game              1558\n",
       "home/away                   74\n",
       "shot_id_number           29134\n",
       "lat/lng                     38\n",
       "type_of_shot                57\n",
       "type_of_combined_shot        6\n",
       "match_id                  1559\n",
       "team_id                      1\n",
       "remaining_min.1            291\n",
       "power_of_shot.1            206\n",
       "knockout_match.1           382\n",
       "remaining_sec.1            354\n",
       "distance_of_shot.1         271\n",
       "dtype: int64"
      ]
     },
     "execution_count": 1,
     "metadata": {},
     "output_type": "execute_result"
    }
   ],
   "source": [
    "import pandas as pd\n",
    "import numpy as np\n",
    "from sklearn.preprocessing import LabelEncoder\n",
    "\n",
    "dataset = pd.read_csv('/home/utkarsh/Desktop/data.csv')\n",
    "dataset.head()\n",
    "count=len(dataset)-dataset.count()\n",
    "print(count)\n",
    "dataset.nunique()"
   ]
  },
  {
   "cell_type": "code",
   "execution_count": 2,
   "metadata": {
    "colab": {},
    "colab_type": "code",
    "id": "CErakm-VkOo4"
   },
   "outputs": [
    {
     "name": "stderr",
     "output_type": "stream",
     "text": [
      "/usr/local/lib/python2.7/dist-packages/ipykernel_launcher.py:4: SettingWithCopyWarning: \n",
      "A value is trying to be set on a copy of a slice from a DataFrame\n",
      "\n",
      "See the caveats in the documentation: http://pandas.pydata.org/pandas-docs/stable/indexing.html#indexing-view-versus-copy\n",
      "  after removing the cwd from sys.path.\n",
      "/usr/local/lib/python2.7/dist-packages/ipykernel_launcher.py:8: SettingWithCopyWarning: \n",
      "A value is trying to be set on a copy of a slice from a DataFrame\n",
      "\n",
      "See the caveats in the documentation: http://pandas.pydata.org/pandas-docs/stable/indexing.html#indexing-view-versus-copy\n",
      "  \n",
      "/usr/local/lib/python2.7/dist-packages/ipykernel_launcher.py:12: SettingWithCopyWarning: \n",
      "A value is trying to be set on a copy of a slice from a DataFrame\n",
      "\n",
      "See the caveats in the documentation: http://pandas.pydata.org/pandas-docs/stable/indexing.html#indexing-view-versus-copy\n",
      "  if sys.path[0] == '':\n",
      "/usr/local/lib/python2.7/dist-packages/ipykernel_launcher.py:16: SettingWithCopyWarning: \n",
      "A value is trying to be set on a copy of a slice from a DataFrame\n",
      "\n",
      "See the caveats in the documentation: http://pandas.pydata.org/pandas-docs/stable/indexing.html#indexing-view-versus-copy\n",
      "  app.launch_new_instance()\n",
      "/usr/local/lib/python2.7/dist-packages/ipykernel_launcher.py:20: SettingWithCopyWarning: \n",
      "A value is trying to be set on a copy of a slice from a DataFrame\n",
      "\n",
      "See the caveats in the documentation: http://pandas.pydata.org/pandas-docs/stable/indexing.html#indexing-view-versus-copy\n"
     ]
    }
   ],
   "source": [
    "for ind in dataset.index: \n",
    "    if(np.isnan(dataset['remaining_min'][ind]) and not np.isnan(dataset['remaining_min.1'][ind])):\n",
    "        if((dataset['remaining_min.1'][ind]-int(dataset['remaining_min.1'][ind]))==0 ):\n",
    "            dataset['remaining_min'][ind]=dataset['remaining_min.1'][ind]\n",
    "for ind in dataset.index:             \n",
    "    if(np.isnan(dataset['power_of_shot'][ind]) and not np.isnan(dataset['power_of_shot.1'][ind])):\n",
    "        if((dataset['power_of_shot.1'][ind]-int(dataset['power_of_shot.1'][ind]))==0 ):\n",
    "            dataset['power_of_shot'][ind]=dataset['power_of_shot.1'][ind]\n",
    "for ind in dataset.index:             \n",
    "    if(np.isnan(dataset['knockout_match'][ind]) and not np.isnan(dataset['knockout_match.1'][ind])):\n",
    "        if((dataset['knockout_match.1'][ind]-int(dataset['knockout_match.1'][ind]))==0 ):\n",
    "            dataset['knockout_match'][ind]=dataset['knockout_match.1'][ind]\n",
    "for ind in dataset.index:             \n",
    "    if(np.isnan(dataset['distance_of_shot'][ind]) and not np.isnan(dataset['distance_of_shot.1'][ind])):\n",
    "        if((dataset['distance_of_shot.1'][ind]-int(dataset['distance_of_shot.1'][ind]))==0 ):\n",
    "            dataset['distance_of_shot'][ind]=dataset['distance_of_shot.1'][ind]\n",
    "for ind in dataset.index:             \n",
    "    if(np.isnan(dataset['remaining_sec'][ind]) and not np.isnan(dataset['remaining_sec.1'][ind])):\n",
    "        if((dataset['remaining_sec.1'][ind]-int(dataset['remaining_sec.1'][ind]))==0 ):\n",
    "            dataset['remaining_sec'][ind]=dataset['remaining_sec.1'][ind]\n",
    "    "
   ]
  },
  {
   "cell_type": "code",
   "execution_count": null,
   "metadata": {
    "colab": {},
    "colab_type": "code",
    "id": "oI0pLsDUkO9b"
   },
   "outputs": [
    {
     "name": "stderr",
     "output_type": "stream",
     "text": [
      "/usr/local/lib/python2.7/dist-packages/ipykernel_launcher.py:3: SettingWithCopyWarning: \n",
      "A value is trying to be set on a copy of a slice from a DataFrame\n",
      "\n",
      "See the caveats in the documentation: http://pandas.pydata.org/pandas-docs/stable/indexing.html#indexing-view-versus-copy\n",
      "  This is separate from the ipykernel package so we can avoid doing imports until\n",
      "/usr/local/lib/python2.7/dist-packages/ipykernel_launcher.py:10: SettingWithCopyWarning: \n",
      "A value is trying to be set on a copy of a slice from a DataFrame\n",
      "\n",
      "See the caveats in the documentation: http://pandas.pydata.org/pandas-docs/stable/indexing.html#indexing-view-versus-copy\n",
      "  # Remove the CWD from sys.path while we load stuff.\n",
      "/usr/local/lib/python2.7/dist-packages/ipykernel_launcher.py:18: SettingWithCopyWarning: \n",
      "A value is trying to be set on a copy of a slice from a DataFrame\n",
      "\n",
      "See the caveats in the documentation: http://pandas.pydata.org/pandas-docs/stable/indexing.html#indexing-view-versus-copy\n",
      "/usr/local/lib/python2.7/dist-packages/ipykernel_launcher.py:28: SettingWithCopyWarning: \n",
      "A value is trying to be set on a copy of a slice from a DataFrame\n",
      "\n",
      "See the caveats in the documentation: http://pandas.pydata.org/pandas-docs/stable/indexing.html#indexing-view-versus-copy\n",
      "/usr/local/lib/python2.7/dist-packages/ipykernel_launcher.py:36: SettingWithCopyWarning: \n",
      "A value is trying to be set on a copy of a slice from a DataFrame\n",
      "\n",
      "See the caveats in the documentation: http://pandas.pydata.org/pandas-docs/stable/indexing.html#indexing-view-versus-copy\n",
      "/usr/local/lib/python2.7/dist-packages/ipykernel_launcher.py:45: SettingWithCopyWarning: \n",
      "A value is trying to be set on a copy of a slice from a DataFrame\n",
      "\n",
      "See the caveats in the documentation: http://pandas.pydata.org/pandas-docs/stable/indexing.html#indexing-view-versus-copy\n",
      "/usr/local/lib/python2.7/dist-packages/ipykernel_launcher.py:53: SettingWithCopyWarning: \n",
      "A value is trying to be set on a copy of a slice from a DataFrame\n",
      "\n",
      "See the caveats in the documentation: http://pandas.pydata.org/pandas-docs/stable/indexing.html#indexing-view-versus-copy\n",
      "/usr/local/lib/python2.7/dist-packages/ipykernel_launcher.py:56: SettingWithCopyWarning: \n",
      "A value is trying to be set on a copy of a slice from a DataFrame\n",
      "\n",
      "See the caveats in the documentation: http://pandas.pydata.org/pandas-docs/stable/indexing.html#indexing-view-versus-copy\n"
     ]
    }
   ],
   "source": [
    "for ind in dataset.index:\n",
    "    if(pd.isnull(dataset['shot_id_number'][ind])):\n",
    "        dataset['shot_id_number'][ind]=ind+1\n",
    "    if(pd.isnull(dataset['lat/lng'][ind])):\n",
    "        temp=ind-1\n",
    "        while pd.isnull(dataset['lat/lng'][temp]):\n",
    "            temp-=1\n",
    "\n",
    "        if(dataset['match_id'][ind]==dataset['match_id'][temp]):\n",
    "            dataset['lat/lng'][ind]=dataset['lat/lng'][temp]\n",
    "\n",
    "        else:\n",
    "            temp=ind+1\n",
    "            while pd.isnull(dataset['lat/lng'][temp]):\n",
    "                temp+=1\n",
    "\n",
    "            if(dataset['match_id'][ind]==dataset['match_id'][temp]):\n",
    "                dataset['lat/lng'][ind]=dataset['lat/lng'][temp]\n",
    "\n",
    "\n",
    "for ind in dataset.index:\n",
    "    if(pd.isnull(dataset['game_season'][ind])):\n",
    "        temp=ind-1\n",
    "        while pd.isnull(dataset['game_season'][temp]):\n",
    "            temp-=1\n",
    "\n",
    "        if(dataset['match_id'][ind]==dataset['match_id'][temp]):\n",
    "            dataset['game_season'][ind]=dataset['game_season'][temp]\n",
    "\n",
    "        else:\n",
    "            temp=ind+1\n",
    "            while pd.isnull(dataset['game_season'][temp]):\n",
    "                temp+=1\n",
    "\n",
    "            if(dataset['match_id'][ind]==dataset['match_id'][temp]):\n",
    "                dataset['game_season'][ind]=dataset['game_season'][temp]\n",
    "\n",
    "for ind in dataset.index:\n",
    "    if(pd.isnull(dataset['home/away'][ind])):\n",
    "        temp=ind-1\n",
    "        while pd.isnull(dataset['home/away'][temp]):\n",
    "            temp-=1\n",
    "\n",
    "        if(dataset['match_id'][ind]==dataset['match_id'][temp]):\n",
    "            dataset['home/away'][ind]=dataset['home/away'][temp]\n",
    "\n",
    "        else:\n",
    "            temp=ind+1\n",
    "            while pd.isnull(dataset['home/away'][temp]):\n",
    "                temp+=1\n",
    "\n",
    "            if(dataset['match_id'][ind]==dataset['match_id'][temp]):\n",
    "                dataset['home/away'][ind]=dataset['home/away'][temp]\n",
    "                \n",
    "for ind in dataset.index:                \n",
    "    dataset['lat/lng'][ind]=dataset['home/away'][ind][-3:]\n",
    "    \n",
    "\n",
    "dataset.loc[dataset['home/away'].str.contains('vs'), 'home/away'] = '0'\n",
    "dataset.loc[dataset['home/away'].str.contains('@'), 'home/away'] = '1'\n"
   ]
  },
  {
   "cell_type": "code",
   "execution_count": null,
   "metadata": {
    "colab": {},
    "colab_type": "code",
    "id": "S2F2gEnUkPMm"
   },
   "outputs": [],
   "source": [
    "dataset['shot_basics'].fillna(dataset['shot_basics'].mode()[0], inplace = True)\n",
    "dataset['range_of_shot'].fillna(dataset['range_of_shot'].mode()[0], inplace = True)\n",
    "dataset['area_of_shot'].fillna(dataset['area_of_shot'].mode()[0], inplace = True)\n",
    "dataset['game_season'].fillna(dataset['game_season'].mode()[0], inplace = True)\n",
    "dataset['location_y'].fillna(dataset['location_y'].median(), inplace = True)\n",
    "dataset['location_x'].fillna(dataset['location_x'].median(), inplace = True)\n",
    "dataset['remaining_sec'].fillna(dataset['remaining_sec'].median(), inplace = True)\n",
    "dataset['remaining_min'].fillna(dataset['remaining_min'].median(), inplace = True)\n",
    "dataset['distance_of_shot'].fillna(dataset['distance_of_shot'].median(), inplace = True)\n",
    "dataset['knockout_match'].fillna(dataset['knockout_match'].median(), inplace = True)\n",
    "dataset['power_of_shot'].fillna(dataset['power_of_shot'].median(), inplace = True)\n",
    "#dataset = dataset[dataset['remaining_sec'].notnull()]\n",
    "#dataset = dataset[dataset['remaining_min'].notnull()]\n",
    "#dataset = dataset[dataset['distance_of_shot'].notnull()]\n",
    "#dataset = dataset[dataset['knockout_match'].notnull()]\n",
    "#dataset = dataset[dataset['power_of_shot'].notnull()]\n",
    "#dataset = dataset[dataset['game_season'].notnull()]\n",
    "dataset.type_of_shot = np.where(dataset.type_of_shot.isnull(), dataset.type_of_combined_shot, dataset.type_of_shot)\n",
    "drop_column = ['Unnamed: 0','match_id','team_id','team_name','match_event_id','date_of_game','remaining_min.1', 'knockout_match.1','remaining_sec.1','distance_of_shot.1','power_of_shot.1','type_of_combined_shot']\n",
    "dataset.drop(drop_column, axis=1, inplace = True)\n",
    "               \n",
    "print(dataset.isnull().sum())"
   ]
  },
  {
   "cell_type": "code",
   "execution_count": null,
   "metadata": {
    "colab": {},
    "colab_type": "code",
    "id": "ILuhIYVfkPco"
   },
   "outputs": [],
   "source": [
    "label = LabelEncoder()\n",
    "dataset['area_of_shot'] = label.fit_transform(dataset['area_of_shot'])\n",
    "dataset['shot_basics'] = label.fit_transform(dataset['shot_basics'])\n",
    "dataset['range_of_shot'] = label.fit_transform(dataset['range_of_shot'])\n",
    "dataset['type_of_shot'] = label.fit_transform(dataset['type_of_shot'])\n",
    "dataset['game_season'] = label.fit_transform(dataset['game_season'])\n",
    "dataset['lat/lng'] = label.fit_transform(dataset['lat/lng'])\n",
    "dataset['home/away'] = label.fit_transform(dataset['home/away'])"
   ]
  },
  {
   "cell_type": "code",
   "execution_count": null,
   "metadata": {
    "colab": {},
    "colab_type": "code",
    "id": "RVL_U7OFkPr6"
   },
   "outputs": [],
   "source": [
    "dataset.head()\n",
    "count=len(dataset)-dataset.count()\n",
    "print(count)\n",
    "dataset.to_csv(r'/home/utkarsh/Desktop/zs1/data2.csv')\n",
    "dataset.nunique()"
   ]
  },
  {
   "cell_type": "code",
   "execution_count": null,
   "metadata": {
    "colab": {},
    "colab_type": "code",
    "id": "DNkwBmHJkP8l"
   },
   "outputs": [],
   "source": [
    "dataset.info()"
   ]
  },
  {
   "cell_type": "code",
   "execution_count": null,
   "metadata": {
    "colab": {},
    "colab_type": "code",
    "id": "LlfwkwrFkQd7"
   },
   "outputs": [],
   "source": [
    "dataset.describe()\n",
    "#dataset.head()"
   ]
  },
  {
   "cell_type": "code",
   "execution_count": null,
   "metadata": {},
   "outputs": [],
   "source": [
    "dataset1 = dataset[pd.isnull(dataset['is_goal'])==0]\n",
    "dataset2 = dataset[pd.isnull(dataset['is_goal'])==1]"
   ]
  },
  {
   "cell_type": "code",
   "execution_count": null,
   "metadata": {},
   "outputs": [],
   "source": [
    "dataset1.head()\n",
    "dataset1.to_csv(r'/home/utkarsh/Desktop/zs1/final1.csv')\n",
    "count=len(dataset1)-dataset1.count()\n",
    "print(count)\n",
    "dataset1.info()\n",
    "dataset1.nunique()"
   ]
  },
  {
   "cell_type": "code",
   "execution_count": null,
   "metadata": {},
   "outputs": [],
   "source": [
    "dataset2.head()\n",
    "count=len(dataset2)-dataset2.count()\n",
    "print(count)\n",
    "dataset2.to_csv(r'/home/utkarsh/Desktop/zs1/prediction1.csv')"
   ]
  },
  {
   "cell_type": "code",
   "execution_count": null,
   "metadata": {},
   "outputs": [],
   "source": []
  },
  {
   "cell_type": "code",
   "execution_count": null,
   "metadata": {},
   "outputs": [],
   "source": []
  }
 ],
 "metadata": {
  "colab": {
   "name": "Untitled8.ipynb",
   "provenance": [],
   "version": "0.3.2"
  },
  "kernelspec": {
   "display_name": "Python 2",
   "language": "python",
   "name": "python2"
  },
  "language_info": {
   "codemirror_mode": {
    "name": "ipython",
    "version": 2
   },
   "file_extension": ".py",
   "mimetype": "text/x-python",
   "name": "python",
   "nbconvert_exporter": "python",
   "pygments_lexer": "ipython2",
   "version": "2.7.15+"
  }
 },
 "nbformat": 4,
 "nbformat_minor": 1
}
